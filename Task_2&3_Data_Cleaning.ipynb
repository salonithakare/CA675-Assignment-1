{
  "nbformat": 4,
  "nbformat_minor": 0,
  "metadata": {
    "colab": {
      "name": "Stack_Data_Cleaning.ipynb",
      "provenance": [],
      "collapsed_sections": []
    },
    "kernelspec": {
      "name": "python3",
      "display_name": "Python 3"
    },
    "language_info": {
      "name": "python"
    }
  },
  "cells": [
    {
      "cell_type": "code",
      "metadata": {
        "id": "je-BxxRk4OyG"
      },
      "source": [
        "import numpy as np\n",
        "import pandas as pd\n",
        "import os"
      ],
      "execution_count": null,
      "outputs": []
    },
    {
      "cell_type": "code",
      "metadata": {
        "colab": {
          "base_uri": "https://localhost:8080/"
        },
        "id": "aKu8vPOh6Nl-",
        "outputId": "7843422b-069d-4522-e0d3-4735cd2de9a3"
      },
      "source": [
        "from google.colab import drive\n",
        "\n",
        "drive.mount('/content/drive', force_remount=True)"
      ],
      "execution_count": null,
      "outputs": [
        {
          "output_type": "stream",
          "name": "stdout",
          "text": [
            "Mounted at /content/drive\n"
          ]
        }
      ]
    },
    {
      "cell_type": "code",
      "metadata": {
        "colab": {
          "base_uri": "https://localhost:8080/",
          "height": 35
        },
        "id": "5oy7_J4V6Ngw",
        "outputId": "b628241c-a0fc-462e-8bf1-099637c35935"
      },
      "source": [
        "os.getcwd()"
      ],
      "execution_count": null,
      "outputs": [
        {
          "output_type": "execute_result",
          "data": {
            "application/vnd.google.colaboratory.intrinsic+json": {
              "type": "string"
            },
            "text/plain": [
              "'/content'"
            ]
          },
          "metadata": {},
          "execution_count": 3
        }
      ]
    },
    {
      "cell_type": "code",
      "metadata": {
        "colab": {
          "base_uri": "https://localhost:8080/",
          "height": 35
        },
        "id": "QVApMpl47ms9",
        "outputId": "0ccd949b-012f-40d0-cba3-fde785a965a6"
      },
      "source": [
        "filepath = '/content/drive/MyDrive/Colab Notebooks/CA675'\n",
        "os.chdir(filepath)\n",
        "os.getcwd()"
      ],
      "execution_count": null,
      "outputs": [
        {
          "output_type": "execute_result",
          "data": {
            "application/vnd.google.colaboratory.intrinsic+json": {
              "type": "string"
            },
            "text/plain": [
              "'/content/drive/MyDrive/Colab Notebooks/CA675'"
            ]
          },
          "metadata": {},
          "execution_count": 4
        }
      ]
    },
    {
      "cell_type": "code",
      "metadata": {
        "id": "McZi88OV8I9a"
      },
      "source": [
        "stackdf = pd.read_csv('stackexchange_posts_records.csv', low_memory=False)"
      ],
      "execution_count": null,
      "outputs": []
    },
    {
      "cell_type": "code",
      "metadata": {
        "colab": {
          "base_uri": "https://localhost:8080/"
        },
        "id": "nOT3rqyw9sYN",
        "outputId": "28a1d45b-8e44-4ffc-f763-147efdeb415e"
      },
      "source": [
        "print(stackdf['PostMainBody'][:5])"
      ],
      "execution_count": null,
      "outputs": [
        {
          "output_type": "stream",
          "name": "stdout",
          "text": [
            "0    <p>I accidentally <strong>committed the wrong ...\n",
            "1    <p>I want to delete a branch both locally and ...\n",
            "2    <p>I have an array of numbers and I'm using th...\n",
            "3    <p>I'm trying to find a way to scan my entire ...\n",
            "4    <p>I would like to create an HTML button that ...\n",
            "Name: Body, dtype: object\n"
          ]
        }
      ]
    },
    {
      "cell_type": "code",
      "metadata": {
        "colab": {
          "base_uri": "https://localhost:8080/"
        },
        "id": "9pvVSw249-Wh",
        "outputId": "612b27d7-22a1-4fae-b26f-5058ce9ab83a"
      },
      "source": [
        "stackdf['PostMainBody'] = stackdf['PostMainBody'].str.replace(r'<[^<>]*>', '', regex=True)\n",
        "stackdf[\"PostMainBody\"] = stackdf['PostMainBody'].str.replace('[^a-zA-Z]', ' ', regex=True)\n",
        "stackdf[\"PostMainBody\"] = stackdf['PostMainBody'].replace(r'\\n',' ', regex=True)\n",
        "stackdf['PostMainBody'].head()"
      ],
      "execution_count": null,
      "outputs": [
        {
          "output_type": "execute_result",
          "data": {
            "text/plain": [
              "0    I accidentally committed the wrong files to Gi...\n",
              "1    I want to delete a branch both locally and rem...\n",
              "2    I have an array of numbers and I m using the  ...\n",
              "3    I m trying to find a way to scan my entire Lin...\n",
              "4    I would like to create an HTML button that act...\n",
              "Name: Body, dtype: object"
            ]
          },
          "metadata": {},
          "execution_count": 17
        }
      ]
    },
    {
      "cell_type": "code",
      "metadata": {
        "colab": {
          "base_uri": "https://localhost:8080/"
        },
        "id": "0qeZvzxc-3wY",
        "outputId": "7a2d2fa8-e317-4f53-dea8-1de9554b3dd9"
      },
      "source": [
        "stackdf['PostTitle'] = stackdf['PostTitle'].str.replace(r'<[^<>]*>', '', regex=True)\n",
        "stackdf[\"PostTitle\"] = stackdf['PostTitle'].str.replace('[^a-zA-Z]', ' ', regex=True)\n",
        "stackdf[\"PostTitle\"] = stackdf['PostTitle'].replace(r'\\n',' ', regex=True)\n",
        "stackdf['PostTitle'].head()"
      ],
      "execution_count": null,
      "outputs": [
        {
          "output_type": "execute_result",
          "data": {
            "text/plain": [
              "0    How do I undo the most recent local commits in...\n",
              "1    How do I delete a Git branch locally and remot...\n",
              "2      How can I remove a specific item from an array \n",
              "3    How do I find all files containing specific te...\n",
              "4    How to create an HTML button that acts like a ...\n",
              "Name: Title, dtype: object"
            ]
          },
          "metadata": {},
          "execution_count": 18
        }
      ]
    },
    {
      "cell_type": "code",
      "metadata": {
        "colab": {
          "base_uri": "https://localhost:8080/",
          "height": 35
        },
        "id": "fWhXhw_d_zMk",
        "outputId": "bac388a1-eff4-450e-beaa-ac403c84c490"
      },
      "source": [
        "os.getcwd()"
      ],
      "execution_count": null,
      "outputs": [
        {
          "output_type": "execute_result",
          "data": {
            "application/vnd.google.colaboratory.intrinsic+json": {
              "type": "string"
            },
            "text/plain": [
              "'/content/drive/My Drive'"
            ]
          },
          "metadata": {},
          "execution_count": 19
        }
      ]
    },
    {
      "cell_type": "code",
      "metadata": {
        "id": "1igsGyBX_TbG"
      },
      "source": [
        "stackdf.to_csv('cleaned_stackexchange_posts_records.csv')"
      ],
      "execution_count": null,
      "outputs": []
    }
  ]
}